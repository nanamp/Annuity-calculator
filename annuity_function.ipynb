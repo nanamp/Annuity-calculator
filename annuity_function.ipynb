{
 "metadata": {
  "language_info": {
   "codemirror_mode": {
    "name": "ipython",
    "version": 3
   },
   "file_extension": ".py",
   "mimetype": "text/x-python",
   "name": "python",
   "nbconvert_exporter": "python",
   "pygments_lexer": "ipython3",
   "version": "3.7.6-final"
  },
  "orig_nbformat": 2,
  "kernelspec": {
   "name": "python3",
   "display_name": "Python 3"
  }
 },
 "nbformat": 4,
 "nbformat_minor": 2,
 "cells": [
  {
   "cell_type": "code",
   "execution_count": 12,
   "metadata": {},
   "outputs": [],
   "source": [
    "def annuity_func(start_age):\n",
    "    import pandas as pd\n",
    "    raw_mort = pd.read_csv(r'....\\a90m.txt') #read in the mortality table\n",
    "    mort = raw_mort.rename(columns = {\"Age x\":\"Age\", \"qx\":\"Mort_Rate\"}) #rename the columns\n",
    "    mort['Surv_Rate'] = 1 - mort['Mort_Rate'] #add a column for the survival rates\n",
    "\n",
    "    raw_int = pd.read_csv(r'....\\Yield Curve.txt') #read in the interest rate table\n",
    "    interest = raw_int.rename(columns = {\"t (year)\":\"Time\", \"Interest Rate\":\"Int_Rate\"}) #rename the columns\n",
    "    interest['Disc_Fac'] = 1 / (1 + interest['Int_Rate']/100) #add a column for the discount factors (v)\n",
    "\n",
    "    \n",
    "    # the yield curve is that for spot rates, so      each time point has a different v and can be raised to the power t\n",
    "    interest['Disc_Fac_^_t'] = interest['Disc_Fac'] ** (interest['Time']) #add a column for the discount factor raised to the power t. \n",
    "\n",
    "    # create an array with the age, survival rate and cumulative survival rate, starting from the age given\n",
    "    rows = []\n",
    "    cumsurv = 1\n",
    "    for index in mort.index:\n",
    "        if mort.loc[index,'Age'] >= start_age:\n",
    "            age = mort.loc[index,'Age']\n",
    "            surv = mort.loc[index,'Surv_Rate']\n",
    "            cumsurv = cumsurv * surv\n",
    "            rows.append([age, surv, cumsurv])\n",
    "    new_mort = pd.DataFrame(rows, columns = [\"Age\",\"Surv_Rate\", \"Cum_Surv_Rate\"])\n",
    "    last_ind = new_mort.tail(1).index.item()\n",
    "\n",
    "    # create and array of discount rates with the same size as the cumulative survival rate array above\n",
    "    rows = []\n",
    "    for index in interest.index:\n",
    "        if index <= last_ind:\n",
    "            disc = interest.loc[index, 'Disc_Fac_^_t']\n",
    "            rows.append([disc])\n",
    "            new_disc = pd.DataFrame(rows, columns = [\"Discount\"])\n",
    "\n",
    "    annuity = 0\n",
    "    \n",
    "    # multiply cumulative survival by discount rate\n",
    "    for index in new_disc.index:\n",
    "        value = new_mort.loc[index, 'Cum_Surv_Rate']  * new_disc.loc[index, 'Discount'] \n",
    "        annuity = annuity + value\n",
    "    # display answer\n",
    "    print(annuity)    "
   ]
  },
  {
   "cell_type": "code",
   "execution_count": 17,
   "metadata": {},
   "outputs": [
    {
     "output_type": "stream",
     "name": "stdout",
     "text": [
      "14.155593600966002\n"
     ]
    }
   ],
   "source": [
    "annuity_func(60)"
   ]
  },
  {
   "cell_type": "code",
   "execution_count": null,
   "metadata": {},
   "outputs": [],
   "source": []
  }
 ]
}